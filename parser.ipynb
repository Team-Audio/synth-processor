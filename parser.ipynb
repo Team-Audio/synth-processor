{
 "cells": [
  {
   "cell_type": "code",
   "execution_count": 1,
   "id": "hundred-intersection",
   "metadata": {},
   "outputs": [],
   "source": [
    "pwd"
   ]
  },
  {
   "cell_type": "code",
   "execution_count": 2,
   "id": "excellent-market",
   "metadata": {},
   "outputs": [],
   "source": [
    "home = _"
   ]
  },
  {
   "cell_type": "code",
   "execution_count": 3,
   "id": "related-campus",
   "metadata": {},
   "outputs": [],
   "source": [
    "#get some imports\n",
    "import mido\n",
    "from os.path import join as opj\n",
    "import rtmidi\n",
    "import xml.etree.ElementTree as ET"
   ]
  },
  {
   "cell_type": "code",
   "execution_count": 4,
   "id": "strange-eight",
   "metadata": {},
   "outputs": [
    {
     "data": {
      "text/plain": [
       "['Microsoft GS Wavetable Synth 0']"
      ]
     },
     "execution_count": 4,
     "metadata": {},
     "output_type": "execute_result"
    }
   ],
   "source": [
    "#enumerate available midi out ports\n",
    "available_ports = rtmidi.MidiOut().get_ports()\n",
    "available_ports"
   ]
  },
  {
   "cell_type": "code",
   "execution_count": 5,
   "id": "decent-persian",
   "metadata": {},
   "outputs": [
    {
     "data": {
      "text/plain": [
       "'Microsoft GS Wavetable Synth 0'"
      ]
     },
     "execution_count": 5,
     "metadata": {},
     "output_type": "execute_result"
    }
   ],
   "source": [
    "# get the first out port\n",
    "port = available_ports[0]\n",
    "port"
   ]
  },
  {
   "cell_type": "code",
   "execution_count": 6,
   "id": "blind-trinidad",
   "metadata": {},
   "outputs": [
    {
     "data": {
      "text/plain": [
       "<midi file 'E:\\\\Users\\\\Raphael\\\\Desktop\\\\Silent Night (Easy)\\\\Silent Night (Easy).mid' type 1, 2 tracks, 322 messages>"
      ]
     },
     "execution_count": 6,
     "metadata": {},
     "output_type": "execute_result"
    }
   ],
   "source": [
    "# open the example file\n",
    "mid = mido.MidiFile(opj(home,\"Silent Night (Easy).mid\"))\n",
    "mid"
   ]
  },
  {
   "cell_type": "code",
   "execution_count": 7,
   "id": "worst-significance",
   "metadata": {},
   "outputs": [],
   "source": [
    "#helper to play and examine the song\n",
    "\n",
    "def play_song():\n",
    "    with mido.open_output(port) as output:\n",
    "        for msg in mid.play():\n",
    "            print(msg)\n",
    "            data = msg.dict()\n",
    "            if 'velocity' in data:\n",
    "                vel = data['velocity']\n",
    "                if vel > 0 and data['time'] > 0:\n",
    "                    print('Note On')\n",
    "            else:\n",
    "                print('Not a note')\n",
    "            output.send(msg)"
   ]
  },
  {
   "cell_type": "code",
   "execution_count": 8,
   "id": "minimal-attraction",
   "metadata": {},
   "outputs": [
    {
     "data": {
      "text/plain": [
       "('9097909700800788098787688098787699097800760766',\n",
       " '53131531315313153131531315313153131543215215531315432152155313153131531315313153131531315313153215313153131153131531315')"
      ]
     },
     "execution_count": 8,
     "metadata": {},
     "output_type": "execute_result"
    }
   ],
   "source": [
    "#get the synthesia metadata\n",
    "\n",
    "# the metadata is stored in a seperate '.synthesia' file\n",
    "# which is internaly just an xml file with a long string of numbers representing the fingers\n",
    "# it starts at track 0 and uses seperators in the form ' t<n>: ' where <n> represents the track number\n",
    "# to identify new tracks\n",
    "\n",
    "with open(opj(home,'Silent Night (Easy).synthesia')) as xml:\n",
    "    tree = ET.parse(xml)\n",
    "    root = tree.getroot()\n",
    "    for item in root.findall('./Songs'):\n",
    "        for child in item:\n",
    "            fingerhints = child.attrib['FingerHints']\n",
    "right,left = fingerhints.split(' t1: ')\n",
    "right,left"
   ]
  },
  {
   "cell_type": "code",
   "execution_count": 9,
   "id": "tracked-lease",
   "metadata": {},
   "outputs": [],
   "source": [
    "# do some decoding on their weird format\n",
    "# 1,2,3,4,5 = left hand standard representation\n",
    "# 0,6,7,8,9 = right hand with +5 offset except for thumb which is 0\n",
    "def cvt_fingers(v):\n",
    "    arr = []\n",
    "    for cha in v:\n",
    "        cha = int(cha)\n",
    "        if cha > 5:\n",
    "            cha -=5\n",
    "        elif cha == 0:\n",
    "            cha = 5\n",
    "        arr += [cha]\n",
    "    return arr"
   ]
  },
  {
   "cell_type": "code",
   "execution_count": 10,
   "id": "imposed-updating",
   "metadata": {},
   "outputs": [],
   "source": [
    "left,right = cvt_fingers(left),cvt_fingers(right)"
   ]
  },
  {
   "cell_type": "code",
   "execution_count": 11,
   "id": "apart-channel",
   "metadata": {},
   "outputs": [],
   "source": [
    "# associate notes with synthesia metadata\n",
    "# for each 'note_on' message with a velocity > 0 there is a corresponding entry in the\n",
    "# \n",
    "\n",
    "lnotes = []\n",
    "i = 0\n",
    "for msg in mid.tracks[1]:\n",
    "    if msg.type == 'note_on' and msg.dict()['velocity'] > 0:\n",
    "        lnotes += [(msg,left[i])]\n",
    "        i = i + 1\n",
    "rnotes = []\n",
    "i = 0\n",
    "for msg in mid.tracks[0]:\n",
    "    if msg.type == 'note_on' and msg.dict()['velocity'] > 0:\n",
    "        rnotes += [(msg,right[i])]\n",
    "        i = i + 1"
   ]
  },
  {
   "cell_type": "code",
   "execution_count": 12,
   "id": "initial-clothing",
   "metadata": {},
   "outputs": [],
   "source": [
    "# helper to get better information out of the dictionary \n",
    "def extract(v):\n",
    "    arr = []\n",
    "    for (msg,finger) in v:\n",
    "        arr += [(msg.dict()['note'],msg.dict()['velocity'],finger)]\n",
    "    return arr"
   ]
  },
  {
   "cell_type": "code",
   "execution_count": 13,
   "id": "funky-amount",
   "metadata": {},
   "outputs": [],
   "source": [
    "lnotes_e,rnotes_e = extract(lnotes),extract(rnotes)"
   ]
  },
  {
   "cell_type": "code",
   "execution_count": 14,
   "id": "loved-watershed",
   "metadata": {},
   "outputs": [
    {
     "data": {
      "text/plain": [
       "([(48, 80, 5),\n",
       "  (52, 80, 3),\n",
       "  (55, 80, 1),\n",
       "  (52, 80, 3),\n",
       "  (55, 80, 1),\n",
       "  (48, 80, 5),\n",
       "  (52, 80, 3),\n",
       "  (55, 80, 1),\n",
       "  (52, 80, 3),\n",
       "  (55, 80, 1),\n",
       "  (48, 80, 5),\n",
       "  (52, 80, 3),\n",
       "  (55, 80, 1),\n",
       "  (52, 80, 3),\n",
       "  (55, 80, 1),\n",
       "  (48, 80, 5),\n",
       "  (52, 80, 3),\n",
       "  (55, 80, 1),\n",
       "  (52, 80, 3),\n",
       "  (55, 80, 1),\n",
       "  (43, 80, 5),\n",
       "  (47, 80, 3),\n",
       "  (50, 80, 1),\n",
       "  (47, 80, 3),\n",
       "  (50, 80, 1),\n",
       "  (43, 80, 5),\n",
       "  (47, 80, 3),\n",
       "  (50, 80, 1),\n",
       "  (47, 80, 3),\n",
       "  (50, 80, 1),\n",
       "  (48, 80, 5),\n",
       "  (52, 80, 3),\n",
       "  (55, 80, 1),\n",
       "  (52, 80, 3),\n",
       "  (55, 80, 1),\n",
       "  (48, 80, 5),\n",
       "  (50, 80, 4),\n",
       "  (52, 80, 3),\n",
       "  (53, 80, 2),\n",
       "  (57, 80, 1),\n",
       "  (48, 80, 5),\n",
       "  (53, 80, 2),\n",
       "  (57, 80, 1),\n",
       "  (48, 80, 5),\n",
       "  (48, 80, 5),\n",
       "  (52, 80, 3),\n",
       "  (55, 80, 1),\n",
       "  (52, 80, 3),\n",
       "  (55, 80, 1),\n",
       "  (48, 80, 5),\n",
       "  (50, 80, 4),\n",
       "  (52, 80, 3),\n",
       "  (53, 80, 2),\n",
       "  (57, 80, 1),\n",
       "  (48, 80, 5),\n",
       "  (53, 80, 2),\n",
       "  (57, 80, 1),\n",
       "  (48, 80, 5),\n",
       "  (48, 80, 5),\n",
       "  (52, 80, 3),\n",
       "  (55, 80, 1),\n",
       "  (52, 80, 3),\n",
       "  (55, 80, 1),\n",
       "  (48, 80, 5),\n",
       "  (52, 80, 3),\n",
       "  (55, 80, 1),\n",
       "  (52, 80, 3),\n",
       "  (55, 80, 1),\n",
       "  (43, 80, 5),\n",
       "  (47, 80, 3),\n",
       "  (50, 80, 1),\n",
       "  (47, 80, 3),\n",
       "  (50, 80, 1),\n",
       "  (43, 80, 5),\n",
       "  (47, 80, 3),\n",
       "  (50, 80, 1),\n",
       "  (47, 80, 3),\n",
       "  (50, 80, 1),\n",
       "  (48, 80, 5),\n",
       "  (52, 80, 3),\n",
       "  (55, 80, 1),\n",
       "  (52, 80, 3),\n",
       "  (55, 80, 1),\n",
       "  (48, 80, 5),\n",
       "  (52, 80, 3),\n",
       "  (55, 80, 1),\n",
       "  (52, 80, 3),\n",
       "  (55, 80, 1),\n",
       "  (48, 80, 5),\n",
       "  (52, 80, 3),\n",
       "  (55, 80, 1),\n",
       "  (52, 80, 3),\n",
       "  (55, 80, 1),\n",
       "  (43, 80, 5),\n",
       "  (47, 80, 3),\n",
       "  (50, 80, 2),\n",
       "  (53, 80, 1),\n",
       "  (48, 80, 5),\n",
       "  (52, 80, 3),\n",
       "  (55, 80, 1),\n",
       "  (52, 80, 3),\n",
       "  (55, 80, 1),\n",
       "  (48, 80, 5),\n",
       "  (52, 80, 3),\n",
       "  (55, 80, 1),\n",
       "  (52, 80, 3),\n",
       "  (55, 80, 1),\n",
       "  (48, 80, 1)],\n",
       " [(67, 80, 4),\n",
       "  (69, 80, 5),\n",
       "  (67, 80, 4),\n",
       "  (64, 80, 2),\n",
       "  (67, 80, 4),\n",
       "  (69, 80, 5),\n",
       "  (67, 80, 4),\n",
       "  (64, 80, 2),\n",
       "  (74, 80, 5),\n",
       "  (74, 80, 5),\n",
       "  (71, 80, 3),\n",
       "  (72, 80, 5),\n",
       "  (72, 80, 5),\n",
       "  (67, 80, 2),\n",
       "  (69, 80, 3),\n",
       "  (69, 80, 3),\n",
       "  (72, 80, 5),\n",
       "  (71, 80, 4),\n",
       "  (69, 80, 3),\n",
       "  (67, 80, 2),\n",
       "  (69, 80, 3),\n",
       "  (67, 80, 2),\n",
       "  (64, 80, 1),\n",
       "  (69, 80, 3),\n",
       "  (69, 80, 3),\n",
       "  (72, 80, 5),\n",
       "  (71, 80, 4),\n",
       "  (69, 80, 3),\n",
       "  (67, 80, 2),\n",
       "  (69, 80, 3),\n",
       "  (67, 80, 2),\n",
       "  (64, 80, 1),\n",
       "  (74, 80, 4),\n",
       "  (74, 80, 4),\n",
       "  (77, 80, 5),\n",
       "  (74, 80, 4),\n",
       "  (71, 80, 2),\n",
       "  (72, 80, 3),\n",
       "  (76, 80, 5),\n",
       "  (72, 80, 5),\n",
       "  (67, 80, 2),\n",
       "  (64, 80, 1),\n",
       "  (67, 80, 5),\n",
       "  (62, 80, 2),\n",
       "  (59, 80, 1),\n",
       "  (60, 80, 1)])"
      ]
     },
     "execution_count": 14,
     "metadata": {},
     "output_type": "execute_result"
    }
   ],
   "source": [
    "lnotes_e,rnotes_e"
   ]
  },
  {
   "cell_type": "code",
   "execution_count": 43,
   "id": "blind-cleaning",
   "metadata": {},
   "outputs": [],
   "source": [
    "# Attempt to group together accords\n",
    "\n",
    "\n",
    "def group_accords(midi_msg_set):\n",
    "    all_accords = []\n",
    "    accord = []\n",
    "    current = 0\n",
    "    for msg, f in midi_msg_set:\n",
    "        current += msg.time\n",
    "        if msg.time > 0:\n",
    "            t = 0\n",
    "            entry = []\n",
    "            for (note,finger,timing) in accord:\n",
    "                entry += [(note,finger)]\n",
    "                t = timing\n",
    "\n",
    "            all_accords += [(entry,t)]\n",
    "\n",
    "\n",
    "            accord = [(msg.note,f,current)]\n",
    "        else:\n",
    "            accord += [(msg.note,f,current)]\n",
    "    return all_accords"
   ]
  },
  {
   "cell_type": "code",
   "execution_count": 16,
   "id": "major-consortium",
   "metadata": {},
   "outputs": [],
   "source": [
    "left_accords,right_accords = group_accords(lnotes),group_accords(rnotes)"
   ]
  },
  {
   "cell_type": "code",
   "execution_count": 17,
   "id": "frozen-sacrifice",
   "metadata": {
    "scrolled": false
   },
   "outputs": [
    {
     "data": {
      "text/plain": [
       "([([(48, 5)], 0),\n",
       "  ([(52, 3), (55, 1)], 25),\n",
       "  ([(52, 3), (55, 1)], 278),\n",
       "  ([(48, 5)], 531),\n",
       "  ([(52, 3), (55, 1)], 556),\n",
       "  ([(52, 3), (55, 1)], 809),\n",
       "  ([(48, 5)], 1062),\n",
       "  ([(52, 3), (55, 1)], 1087),\n",
       "  ([(52, 3), (55, 1)], 1340),\n",
       "  ([(48, 5)], 1593),\n",
       "  ([(52, 3), (55, 1)], 1618),\n",
       "  ([(52, 3), (55, 1)], 1871),\n",
       "  ([(43, 5)], 2124),\n",
       "  ([(47, 3), (50, 1)], 2149),\n",
       "  ([(47, 3), (50, 1)], 2402),\n",
       "  ([(43, 5)], 2655),\n",
       "  ([(47, 3), (50, 1)], 2680),\n",
       "  ([(47, 3), (50, 1)], 2933),\n",
       "  ([(48, 5)], 3186),\n",
       "  ([(52, 3), (55, 1)], 3211),\n",
       "  ([(52, 3), (55, 1)], 3464),\n",
       "  ([(48, 5)], 3717),\n",
       "  ([(50, 4)], 3742),\n",
       "  ([(52, 3)], 3767),\n",
       "  ([(53, 2)], 3792),\n",
       "  ([(57, 1)], 3817),\n",
       "  ([(48, 5)], 3842),\n",
       "  ([(53, 2)], 3867),\n",
       "  ([(57, 1)], 3892),\n",
       "  ([(48, 5)], 3917),\n",
       "  ([(48, 5)], 3942),\n",
       "  ([(52, 3), (55, 1)], 3967),\n",
       "  ([(52, 3), (55, 1)], 4220),\n",
       "  ([(48, 5)], 4473),\n",
       "  ([(50, 4)], 4498),\n",
       "  ([(52, 3)], 4523),\n",
       "  ([(53, 2)], 4548),\n",
       "  ([(57, 1)], 4573),\n",
       "  ([(48, 5)], 4598),\n",
       "  ([(53, 2)], 4623),\n",
       "  ([(57, 1)], 4648),\n",
       "  ([(48, 5)], 4673),\n",
       "  ([(48, 5)], 4698),\n",
       "  ([(52, 3), (55, 1)], 4723),\n",
       "  ([(52, 3), (55, 1)], 4976),\n",
       "  ([(48, 5)], 5229),\n",
       "  ([(52, 3), (55, 1)], 5254),\n",
       "  ([(52, 3), (55, 1)], 5507),\n",
       "  ([(43, 5)], 5760),\n",
       "  ([(47, 3), (50, 1)], 5785),\n",
       "  ([(47, 3), (50, 1)], 6038),\n",
       "  ([(43, 5)], 6291),\n",
       "  ([(47, 3), (50, 1)], 6316),\n",
       "  ([(47, 3), (50, 1)], 6569),\n",
       "  ([(48, 5)], 6822),\n",
       "  ([(52, 3), (55, 1)], 6847),\n",
       "  ([(52, 3), (55, 1)], 7100),\n",
       "  ([(48, 5)], 7353),\n",
       "  ([(52, 3), (55, 1)], 7378),\n",
       "  ([(52, 3), (55, 1)], 7631),\n",
       "  ([(48, 5)], 7884),\n",
       "  ([(52, 3), (55, 1)], 7909),\n",
       "  ([(52, 3), (55, 1)], 8162),\n",
       "  ([(43, 5)], 8415),\n",
       "  ([(47, 3)], 8440),\n",
       "  ([(50, 2), (53, 1)], 8465),\n",
       "  ([(48, 5)], 8490),\n",
       "  ([(52, 3), (55, 1)], 8515),\n",
       "  ([(52, 3), (55, 1)], 8768),\n",
       "  ([(48, 5)], 9021),\n",
       "  ([(52, 3), (55, 1)], 9046),\n",
       "  ([(52, 3), (55, 1)], 9299)],\n",
       " [([(67, 4)], 0),\n",
       "  ([(69, 5)], 37),\n",
       "  ([(67, 4)], 50),\n",
       "  ([(64, 2)], 75),\n",
       "  ([(67, 4)], 148),\n",
       "  ([(69, 5)], 185),\n",
       "  ([(67, 4)], 198),\n",
       "  ([(64, 2)], 223),\n",
       "  ([(74, 5)], 296),\n",
       "  ([(74, 5)], 345),\n",
       "  ([(71, 3)], 370),\n",
       "  ([(72, 5)], 443),\n",
       "  ([(72, 5)], 492),\n",
       "  ([(67, 2)], 517),\n",
       "  ([(69, 3)], 590),\n",
       "  ([(69, 3)], 639),\n",
       "  ([(72, 5)], 664),\n",
       "  ([(71, 4)], 701),\n",
       "  ([(69, 3)], 714),\n",
       "  ([(67, 2)], 739),\n",
       "  ([(69, 3)], 776),\n",
       "  ([(67, 2)], 789),\n",
       "  ([(64, 1)], 814),\n",
       "  ([(69, 3)], 887),\n",
       "  ([(69, 3)], 936),\n",
       "  ([(72, 5)], 961),\n",
       "  ([(71, 4)], 998),\n",
       "  ([(69, 3)], 1011),\n",
       "  ([(67, 2)], 1036),\n",
       "  ([(69, 3)], 1073),\n",
       "  ([(67, 2)], 1086),\n",
       "  ([(64, 1)], 1111),\n",
       "  ([(74, 4)], 1184),\n",
       "  ([(74, 4)], 1233),\n",
       "  ([(77, 5)], 1258),\n",
       "  ([(74, 4)], 1295),\n",
       "  ([(71, 2)], 1308),\n",
       "  ([(72, 3)], 1333),\n",
       "  ([(76, 5)], 1406),\n",
       "  ([(72, 5)], 1479),\n",
       "  ([(67, 2)], 1516),\n",
       "  ([(64, 1)], 1529),\n",
       "  ([(67, 5)], 1554),\n",
       "  ([(62, 2)], 1591),\n",
       "  ([(59, 1)], 1604)])"
      ]
     },
     "execution_count": 17,
     "metadata": {},
     "output_type": "execute_result"
    }
   ],
   "source": [
    "left_accords,right_accords"
   ]
  },
  {
   "cell_type": "code",
   "execution_count": 18,
   "id": "complicated-combining",
   "metadata": {},
   "outputs": [],
   "source": [
    "preamble = [\n",
    "    mido.Message('control_change',channel=0,control=121,value=0,time=0),\n",
    "    mido.Message('program_change',channel=0,program=0,time=0),\n",
    "    mido.Message('control_change',channel=0,control=7,value=100,time=0),\n",
    "    mido.Message('control_change',channel=0,control=10,value=64,time=0),\n",
    "    mido.Message('control_change',channel=0,control=91,value=0,time=0),\n",
    "    mido.Message('control_change',channel=0,control=93,value=0,time=0)\n",
    "]\n"
   ]
  },
  {
   "cell_type": "code",
   "execution_count": 19,
   "id": "aggregate-genre",
   "metadata": {},
   "outputs": [],
   "source": [
    "import time\n",
    "def play_single_accord(accord_data):\n",
    "    data,_ = accord_data\n",
    "    on_messages = []\n",
    "    off_messages = []\n",
    "    \n",
    "    for (note,finger) in data:\n",
    "        on_messages += [(mido.Message('note_on',note=note,velocity=80,channel=0,time=0),finger)]\n",
    "        off_messages += [mido.Message('note_on',note=note,velocity=0, channel=0,time=1)]\n",
    "    \n",
    "    with mido.open_output(port) as output:\n",
    "        for meta in preamble:\n",
    "            output.send(meta)\n",
    "        for on,finger in on_messages:\n",
    "            print('Playing',on.note,'with finger',finger)\n",
    "            output.send(on)\n",
    "        time.sleep(1)\n",
    "        for off in off_messages:\n",
    "            output.send(off)\n",
    "        \n",
    "    "
   ]
  },
  {
   "cell_type": "code",
   "execution_count": 20,
   "id": "opposite-audio",
   "metadata": {},
   "outputs": [
    {
     "name": "stdout",
     "output_type": "stream",
     "text": [
      " --- Accord: 0\n",
      "Playing 48 with finger 5\n",
      " --- Accord: 1\n",
      "Playing 52 with finger 3\n",
      "Playing 55 with finger 1\n",
      " --- Accord: 2\n",
      "Playing 52 with finger 3\n",
      "Playing 55 with finger 1\n"
     ]
    }
   ],
   "source": [
    "for i,accord in enumerate(left_accords[:3]):\n",
    "    print(' --- Accord:',i)\n",
    "    play_single_accord(accord)\n",
    "    time.sleep(0.1)"
   ]
  },
  {
   "cell_type": "code",
   "execution_count": 21,
   "id": "annual-container",
   "metadata": {},
   "outputs": [],
   "source": [
    "import fluidsynth"
   ]
  },
  {
   "cell_type": "code",
   "execution_count": 22,
   "id": "neural-metallic",
   "metadata": {},
   "outputs": [],
   "source": [
    "fl = fluidsynth.Synth()\n",
    "sfid =fl.sfload(\"C:\\soundfonts\\default.sf2\")"
   ]
  },
  {
   "cell_type": "code",
   "execution_count": 23,
   "id": "psychological-limit",
   "metadata": {},
   "outputs": [
    {
     "data": {
      "text/plain": [
       "0"
      ]
     },
     "execution_count": 23,
     "metadata": {},
     "output_type": "execute_result"
    }
   ],
   "source": [
    "fl.program_select(0,sfid,0,0)"
   ]
  },
  {
   "cell_type": "code",
   "execution_count": 24,
   "id": "domestic-criminal",
   "metadata": {},
   "outputs": [
    {
     "data": {
      "text/plain": [
       "0"
      ]
     },
     "execution_count": 24,
     "metadata": {},
     "output_type": "execute_result"
    }
   ],
   "source": [
    "fl.noteon(0,60,127)"
   ]
  },
  {
   "cell_type": "code",
   "execution_count": 25,
   "id": "periodic-bahrain",
   "metadata": {},
   "outputs": [
    {
     "data": {
      "text/plain": [
       "0"
      ]
     },
     "execution_count": 25,
     "metadata": {},
     "output_type": "execute_result"
    }
   ],
   "source": [
    "fl.noteon(0,67,127)"
   ]
  },
  {
   "cell_type": "code",
   "execution_count": 26,
   "id": "eastern-kitchen",
   "metadata": {},
   "outputs": [
    {
     "data": {
      "text/plain": [
       "0"
      ]
     },
     "execution_count": 26,
     "metadata": {},
     "output_type": "execute_result"
    }
   ],
   "source": [
    "fl.noteon(0,76,127)"
   ]
  },
  {
   "cell_type": "code",
   "execution_count": 27,
   "id": "coordinate-sampling",
   "metadata": {},
   "outputs": [],
   "source": [
    "import numpy as np\n"
   ]
  },
  {
   "cell_type": "code",
   "execution_count": 28,
   "id": "floating-string",
   "metadata": {},
   "outputs": [],
   "source": [
    "s = np.array([])"
   ]
  },
  {
   "cell_type": "code",
   "execution_count": 29,
   "id": "direct-recorder",
   "metadata": {},
   "outputs": [],
   "source": [
    "s = np.append(s,fl.get_samples(44100*2))"
   ]
  },
  {
   "cell_type": "code",
   "execution_count": 30,
   "id": "lonely-investor",
   "metadata": {},
   "outputs": [
    {
     "data": {
      "text/plain": [
       "0"
      ]
     },
     "execution_count": 30,
     "metadata": {},
     "output_type": "execute_result"
    }
   ],
   "source": [
    "fl.noteoff(0,60)"
   ]
  },
  {
   "cell_type": "code",
   "execution_count": 31,
   "id": "relevant-appraisal",
   "metadata": {},
   "outputs": [
    {
     "data": {
      "text/plain": [
       "0"
      ]
     },
     "execution_count": 31,
     "metadata": {},
     "output_type": "execute_result"
    }
   ],
   "source": [
    "fl.noteoff(0,67)"
   ]
  },
  {
   "cell_type": "code",
   "execution_count": 32,
   "id": "functioning-olympus",
   "metadata": {},
   "outputs": [
    {
     "data": {
      "text/plain": [
       "0"
      ]
     },
     "execution_count": 32,
     "metadata": {},
     "output_type": "execute_result"
    }
   ],
   "source": [
    "fl.noteoff(0,76)"
   ]
  },
  {
   "cell_type": "code",
   "execution_count": 33,
   "id": "prerequisite-playing",
   "metadata": {},
   "outputs": [],
   "source": [
    "s = np.append(s,fl.get_samples(44100*1))"
   ]
  },
  {
   "cell_type": "code",
   "execution_count": 34,
   "id": "sonic-publisher",
   "metadata": {},
   "outputs": [],
   "source": [
    "fl.delete()"
   ]
  },
  {
   "cell_type": "code",
   "execution_count": 35,
   "id": "corporate-locator",
   "metadata": {},
   "outputs": [],
   "source": [
    "samps = fluidsynth.raw_audio_string(s)"
   ]
  },
  {
   "cell_type": "code",
   "execution_count": 36,
   "id": "lucky-bacon",
   "metadata": {},
   "outputs": [],
   "source": [
    "import wave"
   ]
  },
  {
   "cell_type": "code",
   "execution_count": 37,
   "id": "ruled-episode",
   "metadata": {},
   "outputs": [],
   "source": [
    "obj = wave.open(\"out.wav\",'w')"
   ]
  },
  {
   "cell_type": "code",
   "execution_count": 38,
   "id": "scientific-scottish",
   "metadata": {},
   "outputs": [],
   "source": [
    "obj.setnchannels(1)"
   ]
  },
  {
   "cell_type": "code",
   "execution_count": 39,
   "id": "liable-validity",
   "metadata": {},
   "outputs": [],
   "source": [
    "obj.setframerate(44100)"
   ]
  },
  {
   "cell_type": "code",
   "execution_count": 40,
   "id": "paperback-guess",
   "metadata": {},
   "outputs": [],
   "source": [
    "obj.setsampwidth(2)"
   ]
  },
  {
   "cell_type": "code",
   "execution_count": 41,
   "id": "israeli-print",
   "metadata": {},
   "outputs": [],
   "source": [
    "obj.writeframesraw(samps)"
   ]
  },
  {
   "cell_type": "code",
   "execution_count": 42,
   "id": "dependent-scanning",
   "metadata": {},
   "outputs": [],
   "source": [
    "obj.close()"
   ]
  },
  {
   "cell_type": "code",
   "execution_count": null,
   "id": "charitable-calcium",
   "metadata": {},
   "outputs": [],
   "source": []
  }
 ],
 "metadata": {
  "kernelspec": {
   "display_name": "Python 3",
   "language": "python",
   "name": "python3"
  },
  "language_info": {
   "codemirror_mode": {
    "name": "ipython",
    "version": 3
   },
   "file_extension": ".py",
   "mimetype": "text/x-python",
   "name": "python",
   "nbconvert_exporter": "python",
   "pygments_lexer": "ipython3",
   "version": "3.7.9"
  }
 },
 "nbformat": 4,
 "nbformat_minor": 5
}
