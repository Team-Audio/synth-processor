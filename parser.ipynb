{
 "cells": [
  {
   "cell_type": "code",
   "execution_count": 1,
   "id": "hundred-intersection",
   "metadata": {},
   "outputs": [
    {
     "data": {
      "text/plain": [
       "'E:\\\\Users\\\\Raphael\\\\Desktop\\\\Silent Night (Easy)'"
      ]
     },
     "execution_count": 1,
     "metadata": {},
     "output_type": "execute_result"
    }
   ],
   "source": [
    "pwd"
   ]
  },
  {
   "cell_type": "code",
   "execution_count": 2,
   "id": "excellent-market",
   "metadata": {},
   "outputs": [],
   "source": [
    "home = _"
   ]
  },
  {
   "cell_type": "code",
   "execution_count": 16,
   "id": "related-campus",
   "metadata": {},
   "outputs": [],
   "source": [
    "import mido\n",
    "from os.path import join as opj\n",
    "import rtmidi\n",
    "import xml.etree.ElementTree as ET"
   ]
  },
  {
   "cell_type": "code",
   "execution_count": 9,
   "id": "strange-eight",
   "metadata": {},
   "outputs": [
    {
     "data": {
      "text/plain": [
       "['Microsoft GS Wavetable Synth 0', 'V25 1', 'MIDIOUT2 (V25) 2']"
      ]
     },
     "execution_count": 9,
     "metadata": {},
     "output_type": "execute_result"
    }
   ],
   "source": [
    "available_ports = rtmidi.MidiOut().get_ports()\n",
    "available_ports"
   ]
  },
  {
   "cell_type": "code",
   "execution_count": 10,
   "id": "decent-persian",
   "metadata": {},
   "outputs": [
    {
     "data": {
      "text/plain": [
       "'Microsoft GS Wavetable Synth 0'"
      ]
     },
     "execution_count": 10,
     "metadata": {},
     "output_type": "execute_result"
    }
   ],
   "source": [
    "port = available_ports[0]\n",
    "port"
   ]
  },
  {
   "cell_type": "code",
   "execution_count": 13,
   "id": "blind-trinidad",
   "metadata": {},
   "outputs": [
    {
     "data": {
      "text/plain": [
       "<midi file 'E:\\\\Users\\\\Raphael\\\\Desktop\\\\Silent Night (Easy)\\\\Silent Night (Easy).mid' type 1, 2 tracks, 322 messages>"
      ]
     },
     "execution_count": 13,
     "metadata": {},
     "output_type": "execute_result"
    }
   ],
   "source": [
    "mid = mido.MidiFile(opj(home,\"Silent Night (Easy).mid\"))\n",
    "mid"
   ]
  },
  {
   "cell_type": "code",
   "execution_count": 62,
   "id": "worst-significance",
   "metadata": {},
   "outputs": [],
   "source": [
    "def play_song():\n",
    "    with mido.open_output(port) as output:\n",
    "        for msg in mid.play():\n",
    "            data = msg.dict()\n",
    "            if 'velocity' in data:\n",
    "                vel = data['velocity']\n",
    "                if vel > 0:\n",
    "                    print('Note On')\n",
    "                else:\n",
    "                    print('Note Off')\n",
    "            else:\n",
    "                print('Not a note')\n",
    "            output.send(msg)"
   ]
  },
  {
   "cell_type": "code",
   "execution_count": 26,
   "id": "minimal-attraction",
   "metadata": {},
   "outputs": [
    {
     "data": {
      "text/plain": [
       "('9097909700800788098787688098787699097800760766',\n",
       " '53131531315313153131531315313153131543215215531315432152155313153131531315313153131531315313153215313153131153131531315')"
      ]
     },
     "execution_count": 26,
     "metadata": {},
     "output_type": "execute_result"
    }
   ],
   "source": [
    "with open(opj(home,'Silent Night (Easy).synthesia')) as xml:\n",
    "    tree = ET.parse(xml)\n",
    "    root = tree.getroot()\n",
    "    for item in root.findall('./Songs'):\n",
    "        for child in item:\n",
    "            fingerhints = child.attrib['FingerHints']\n",
    "right,left = fingerhints.split(' t1: ')\n",
    "right,left"
   ]
  },
  {
   "cell_type": "code",
   "execution_count": 27,
   "id": "tracked-lease",
   "metadata": {},
   "outputs": [],
   "source": [
    "def cvt_fingers(v):\n",
    "    arr = []\n",
    "    for cha in v:\n",
    "        cha = int(cha)\n",
    "        if cha > 5:\n",
    "            cha -=5\n",
    "        elif cha == 0:\n",
    "            cha = 5\n",
    "        arr += [cha]\n",
    "    return arr"
   ]
  },
  {
   "cell_type": "code",
   "execution_count": 63,
   "id": "imposed-updating",
   "metadata": {},
   "outputs": [],
   "source": [
    "left,right = cvt_fingers(left),cvt_fingers(right)"
   ]
  },
  {
   "cell_type": "code",
   "execution_count": 48,
   "id": "apart-channel",
   "metadata": {},
   "outputs": [],
   "source": [
    "lnotes = []\n",
    "i = 0\n",
    "for msg in mid.tracks[1]:\n",
    "    if msg.type == 'note_on' and msg.dict()['velocity'] > 0:\n",
    "        lnotes += [(msg,left[i])]\n",
    "        i = i + 1\n",
    "rnotes = []\n",
    "i = 0\n",
    "for msg in mid.tracks[0]:\n",
    "    if msg.type == 'note_on' and msg.dict()['velocity'] > 0:\n",
    "        rnotes += [(msg,right[i])]\n",
    "        i = i + 1"
   ]
  },
  {
   "cell_type": "code",
   "execution_count": null,
   "id": "lonely-palmer",
   "metadata": {},
   "outputs": [],
   "source": [
    "lnotes,rnotes"
   ]
  },
  {
   "cell_type": "code",
   "execution_count": 57,
   "id": "initial-clothing",
   "metadata": {},
   "outputs": [],
   "source": [
    "def extract(v):\n",
    "    arr = []\n",
    "    for (msg,finger) in v:\n",
    "        arr += [(msg.dict()['note'],msg.dict()['velocity'],finger)]\n",
    "    return arr"
   ]
  },
  {
   "cell_type": "code",
   "execution_count": 58,
   "id": "funky-amount",
   "metadata": {},
   "outputs": [],
   "source": [
    "lnotes_e,rnotes_e = extract(lnotes),extract(rnotes)"
   ]
  },
  {
   "cell_type": "code",
   "execution_count": null,
   "id": "loved-watershed",
   "metadata": {},
   "outputs": [],
   "source": [
    "lnotes_e,rnotes_e"
   ]
  },
  {
   "cell_type": "code",
   "execution_count": null,
   "id": "lesbian-remainder",
   "metadata": {},
   "outputs": [],
   "source": []
  }
 ],
 "metadata": {
  "kernelspec": {
   "display_name": "Python 3",
   "language": "python",
   "name": "python3"
  },
  "language_info": {
   "codemirror_mode": {
    "name": "ipython",
    "version": 3
   },
   "file_extension": ".py",
   "mimetype": "text/x-python",
   "name": "python",
   "nbconvert_exporter": "python",
   "pygments_lexer": "ipython3",
   "version": "3.7.9"
  }
 },
 "nbformat": 4,
 "nbformat_minor": 5
}
